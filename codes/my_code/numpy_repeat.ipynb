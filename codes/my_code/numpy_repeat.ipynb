{
 "cells": [
  {
   "cell_type": "code",
   "execution_count": 1,
   "id": "933b51bf",
   "metadata": {},
   "outputs": [
    {
     "name": "stdout",
     "output_type": "stream",
     "text": [
      "a: [3 3 3 3]\n",
      "b: [1 1 2 2 3 3 4 4]\n",
      "c: [[1 1 1 2 2 2]\n",
      " [3 3 3 4 4 4]]\n",
      "d: [[1 2]\n",
      " [3 4]\n",
      " [3 4]]\n"
     ]
    }
   ],
   "source": [
    "import numpy as np\n",
    "\n",
    "a =np.repeat(3, 4)\n",
    "print(f\"a: {a}\")\n",
    "\n",
    "x = np.array([[1,2],[3,4]])\n",
    "b = np.repeat(x, 2)\n",
    "c = np.repeat(x, 3, axis=1)\n",
    "d = np.repeat(x, [1, 2], axis=0)\n",
    "\n",
    "print(f\"b: {b}\")\n",
    "print(f\"c: {c}\")\n",
    "print(f\"d: {d}\")"
   ]
  }
 ],
 "metadata": {
  "kernelspec": {
   "display_name": "gnn_course",
   "language": "python",
   "name": "python3"
  },
  "language_info": {
   "codemirror_mode": {
    "name": "ipython",
    "version": 3
   },
   "file_extension": ".py",
   "mimetype": "text/x-python",
   "name": "python",
   "nbconvert_exporter": "python",
   "pygments_lexer": "ipython3",
   "version": "3.8.20"
  }
 },
 "nbformat": 4,
 "nbformat_minor": 5
}
